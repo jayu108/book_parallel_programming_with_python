{
 "cells": [
  {
   "cell_type": "markdown",
   "metadata": {},
   "source": [
    "# chapter 5. Using Multiprocessing and ProcessPoolExecutor"
   ]
  },
  {
   "cell_type": "markdown",
   "metadata": {},
   "source": [
    "## 리소스 (resource)\n",
    "\n",
    "![resource](./images/resource.png)\n",
    "\n",
    "- 공유 리소스 : 네트워크 사용자가 사용할 수 있는 폴더, 파일, 프린터 및 명명된 파이프와 같은 모든 리소스. \n",
    "   ( https://technet.microsoft.com/ko-kr/library/cc772501.aspx )"
   ]
  },
  {
   "cell_type": "markdown",
   "metadata": {},
   "source": [
    "## Thread vs process \n",
    "\n",
    "http://www.tutorialspoint.com/operating_system/os_multi_threading.htm\n",
    "    \n",
    "![threadvsprocess](http://www.tutorialspoint.com/operating_system/images/thread_processes.jpg)\n",
    "\n",
    "\n",
    "\n",
    "![threadex2](./images/11-4.bmp)\n",
    "\n",
    "![threadex3](./images/11-5.bmp)\n",
    "\n",
    "![threadex](./images/11-6.bmp)"
   ]
  },
  {
   "cell_type": "markdown",
   "metadata": {},
   "source": [
    "## thread\n",
    "\n",
    "user-level thread vs kernel-level thread\n",
    "\n",
    "https://kldp.org/node/295\n",
    "\n",
    "http://www.tldp.org/FAQ/Threads-FAQ/Types.html\n",
    "\n",
    "### 1) kernel-level thread 모델\n",
    "![kernelthread1](./images/11-8.bmp)\n",
    "\n",
    "### 2) user-level thread 모델\n",
    "\n",
    "- OS 에서 thread 지원안함. 별도의 thread library 사용하여 thread 생성하고 관리함.\n",
    "![kernelthread2](./images/11-10.bmp)\n",
    "\n",
    "### 3) Threads and processes 모식도\n",
    "http://stackoverflow.com/a/29275453\n",
    "\n",
    "![threadprocess](http://i.stack.imgur.com/IlJZP.png)\n"
   ]
  },
  {
   "cell_type": "markdown",
   "metadata": {},
   "source": [
    "## inter-process communication (IPC)\n",
    "\n",
    "http://en.wikipedia.org/wiki/Inter-process_communication"
   ]
  },
  {
   "cell_type": "markdown",
   "metadata": {
    "collapsed": true
   },
   "source": [
    "## 선점형 vs 비선점형 OS\n",
    "\n",
    "\n",
    "<a href=\"http://ko.wikipedia.org/wiki/%EC%8A%A4%EC%BC%80%EC%A4%84%EB%A7%81_(%EC%BB%B4%ED%93%A8%ED%8C%85)\"> 내용보기 </a>"
   ]
  },
  {
   "cell_type": "markdown",
   "metadata": {},
   "source": [
    "###  ** 이 책의 예제들은 python 3 기준입니다... 그래도 저는 python 2.7 & windows 사용!!!\n",
    "###       아래의 모든 예제들은 terminal 이나, pycharm 에서 실행하세요!!"
   ]
  },
  {
   "cell_type": "code",
   "execution_count": 2,
   "metadata": {
    "collapsed": false
   },
   "outputs": [
    {
     "data": {
      "text/plain": [
       "'2.7.8'"
      ]
     },
     "execution_count": 2,
     "metadata": {},
     "output_type": "execute_result"
    }
   ],
   "source": [
    "import platform\n",
    "\n",
    "platform.python_version()"
   ]
  },
  {
   "cell_type": "markdown",
   "metadata": {},
   "source": [
    "## 참고 : multiprocessing 예제\n",
    "\n",
    "http://pymotw.com/2/multiprocessing/index.html\n"
   ]
  },
  {
   "cell_type": "markdown",
   "metadata": {},
   "source": [
    "# Understanding the concept of a process\n"
   ]
  },
  {
   "cell_type": "markdown",
   "metadata": {},
   "source": [
    "## 1. Understanding the process model\n",
    "\n",
    "- Process Control Block (PCB), which stores information referring to processes.\n",
    "\n",
    "http://www.cs.uic.edu/~jbell/CourseNotes/OperatingSystems/3_Processes.html\n",
    "\n",
    "http://www.tutorialspoint.com/operating_system/os_processes.htm\n",
    "\n",
    "\n",
    "![process_state](http://www.tutorialspoint.com/operating_system/images/pcb.jpg)\n",
    "\n",
    "![process_state](http://www.cs.uic.edu/~jbell/CourseNotes/OperatingSystems/images/Chapter3/3_04_ProcessSwitch.jpg)"
   ]
  },
  {
   "cell_type": "markdown",
   "metadata": {},
   "source": [
    "## 2. Defining the states of a process\n",
    "\n",
    "    - Running state\n",
    "    - Ready state \n",
    "    - Waiting (or Blocked) state\n",
    "\n",
    "\n",
    "http://www.cs.uic.edu/~jbell/CourseNotes/OperatingSystems/3_Processes.html\n",
    "http://www.personal.kent.edu/~rmuhamma/OpSystems/Myos/processState.htm\n",
    "\n",
    "![process_state](http://www.cs.uic.edu/~jbell/CourseNotes/OperatingSystems/images/Chapter3/3_02_ProcessState.jpg)\n"
   ]
  },
  {
   "cell_type": "markdown",
   "metadata": {},
   "source": [
    "# Implementing multiprocessing communication\n",
    "\n",
    "https://docs.python.org/2.7/library/multiprocessing.html#exchanging-objects-between-processes"
   ]
  },
  {
   "cell_type": "markdown",
   "metadata": {},
   "source": [
    "## 1. Using multiprocessing.Pipe\n",
    "\n",
    "- The two connection objects returned by Pipe() represent the two ends of the pipe. "
   ]
  },
  {
   "cell_type": "code",
   "execution_count": 3,
   "metadata": {
    "collapsed": true
   },
   "outputs": [],
   "source": [
    "# %load multiprocessing_pipe.py\n",
    "import os, random\n",
    "from multiprocessing import Process, Pipe\n",
    "\n",
    "\n",
    "def producer_task(conn):\n",
    "    value = random.randint(1, 10)\n",
    "    conn.send(value)\n",
    "    print('Value [%d] sent by PID [%d]' % (value, os.getpid()))\n",
    "    conn.close()\n",
    "\n",
    "def consumer_task(conn):\n",
    "    print('Value [%d] received by PID [%d]' % (conn.recv(), os.getpid()))\n",
    "\n",
    "if __name__ == '__main__':\n",
    "    producer_conn, consumer_conn = Pipe()\n",
    "    consumer = Process(target=consumer_task, args=(consumer_conn,))\n",
    "    producer = Process(target=producer_task, args=(producer_conn,))\n",
    "    \n",
    "    consumer.start()\n",
    "    producer.start()\n",
    "    \n",
    "    consumer.join()\n",
    "    producer.join()\n",
    "\n"
   ]
  },
  {
   "cell_type": "markdown",
   "metadata": {},
   "source": [
    "## 2. Understanding multiprocessing.Queue\n",
    "\n",
    "- The Queue class is a near clone of Queue.Queue.\n",
    "- <span style=\"color:blue; weight:bold\">Queues</span> are thread and process safe."
   ]
  },
  {
   "cell_type": "markdown",
   "metadata": {
    "collapsed": true
   },
   "source": [
    "### <참고> Queue module 내부 살펴보기\n",
    "\n",
    "https://docs.python.org/2/library/queue.html#Queue.Queue\n",
    "\n",
    "소스보기 : https://hg.python.org/cpython/file/2.7/Lib/Queue.py\n",
    "\n",
    "- 내부적으로 동기화 사용하고 있음을 알수있다. 따라서 thread 와 process 에 safe 하다!\n",
    "   \n",
    "   --> 그렇다면, 왜 4장 thread 예제에서 fibonacci 수열 구할때, condition 으로 동기화 사용할 필요있을까????? "
   ]
  },
  {
   "cell_type": "markdown",
   "metadata": {},
   "source": [
    "# Using multiprocessing to compute Fibonacci series terms with multiple inputs\n",
    "\n",
    "- pipe, queue 는 메세지 전달 방식.\n",
    "- 다른 방식을 사용해보자. Manager 사용.\n",
    "\n",
    "### Manager\n",
    "\n",
    "- A manager returned by Manager() will support types <span style=\"color:blue;\"> list, dict, Namespace, Lock, RLock, Semaphore, BoundedSemaphore, Condition, Event, Queue, Value and Array</span>.( https://docs.python.org/2.7/library/multiprocessing.html#sharing-state-between-processes )\n",
    "\n",
    "- Manager 예제 : http://pymotw.com/2/multiprocessing/communication.html#managing-shared-state\n",
    "\n"
   ]
  },
  {
   "cell_type": "code",
   "execution_count": 4,
   "metadata": {
    "collapsed": false
   },
   "outputs": [
    {
     "ename": "EOFError",
     "evalue": "",
     "output_type": "error",
     "traceback": [
      "\u001b[1;31m---------------------------------------------------------------------------\u001b[0m",
      "\u001b[1;31mEOFError\u001b[0m                                  Traceback (most recent call last)",
      "\u001b[1;32m<ipython-input-4-bd4aad3d49af>\u001b[0m in \u001b[0;36m<module>\u001b[1;34m()\u001b[0m\n\u001b[0;32m     34\u001b[0m     \u001b[0mdata_queue\u001b[0m \u001b[1;33m=\u001b[0m \u001b[0mQueue\u001b[0m\u001b[1;33m(\u001b[0m\u001b[1;33m)\u001b[0m\u001b[1;33m\u001b[0m\u001b[0m\n\u001b[0;32m     35\u001b[0m     \u001b[0mnumber_of_cpus\u001b[0m \u001b[1;33m=\u001b[0m \u001b[0mcpu_count\u001b[0m\u001b[1;33m(\u001b[0m\u001b[1;33m)\u001b[0m\u001b[1;33m\u001b[0m\u001b[0m\n\u001b[1;32m---> 36\u001b[1;33m     \u001b[0mmanager\u001b[0m \u001b[1;33m=\u001b[0m \u001b[0mManager\u001b[0m\u001b[1;33m(\u001b[0m\u001b[1;33m)\u001b[0m\u001b[1;33m\u001b[0m\u001b[0m\n\u001b[0m\u001b[0;32m     37\u001b[0m     \u001b[0mfibo_dict\u001b[0m \u001b[1;33m=\u001b[0m \u001b[0mmanager\u001b[0m\u001b[1;33m.\u001b[0m\u001b[0mdict\u001b[0m\u001b[1;33m(\u001b[0m\u001b[1;33m)\u001b[0m\u001b[1;33m\u001b[0m\u001b[0m\n\u001b[0;32m     38\u001b[0m \u001b[1;33m\u001b[0m\u001b[0m\n",
      "\u001b[1;32mC:\\Python2764\\lib\\multiprocessing\\__init__.pyc\u001b[0m in \u001b[0;36mManager\u001b[1;34m()\u001b[0m\n\u001b[0;32m     97\u001b[0m     \u001b[1;32mfrom\u001b[0m \u001b[0mmultiprocessing\u001b[0m\u001b[1;33m.\u001b[0m\u001b[0mmanagers\u001b[0m \u001b[1;32mimport\u001b[0m \u001b[0mSyncManager\u001b[0m\u001b[1;33m\u001b[0m\u001b[0m\n\u001b[0;32m     98\u001b[0m     \u001b[0mm\u001b[0m \u001b[1;33m=\u001b[0m \u001b[0mSyncManager\u001b[0m\u001b[1;33m(\u001b[0m\u001b[1;33m)\u001b[0m\u001b[1;33m\u001b[0m\u001b[0m\n\u001b[1;32m---> 99\u001b[1;33m     \u001b[0mm\u001b[0m\u001b[1;33m.\u001b[0m\u001b[0mstart\u001b[0m\u001b[1;33m(\u001b[0m\u001b[1;33m)\u001b[0m\u001b[1;33m\u001b[0m\u001b[0m\n\u001b[0m\u001b[0;32m    100\u001b[0m     \u001b[1;32mreturn\u001b[0m \u001b[0mm\u001b[0m\u001b[1;33m\u001b[0m\u001b[0m\n\u001b[0;32m    101\u001b[0m \u001b[1;33m\u001b[0m\u001b[0m\n",
      "\u001b[1;32mC:\\Python2764\\lib\\multiprocessing\\managers.py\u001b[0m in \u001b[0;36mstart\u001b[1;34m(self, initializer, initargs)\u001b[0m\n\u001b[0;32m    526\u001b[0m         \u001b[1;31m# get address of server\u001b[0m\u001b[1;33m\u001b[0m\u001b[1;33m\u001b[0m\u001b[0m\n\u001b[0;32m    527\u001b[0m         \u001b[0mwriter\u001b[0m\u001b[1;33m.\u001b[0m\u001b[0mclose\u001b[0m\u001b[1;33m(\u001b[0m\u001b[1;33m)\u001b[0m\u001b[1;33m\u001b[0m\u001b[0m\n\u001b[1;32m--> 528\u001b[1;33m         \u001b[0mself\u001b[0m\u001b[1;33m.\u001b[0m\u001b[0m_address\u001b[0m \u001b[1;33m=\u001b[0m \u001b[0mreader\u001b[0m\u001b[1;33m.\u001b[0m\u001b[0mrecv\u001b[0m\u001b[1;33m(\u001b[0m\u001b[1;33m)\u001b[0m\u001b[1;33m\u001b[0m\u001b[0m\n\u001b[0m\u001b[0;32m    529\u001b[0m         \u001b[0mreader\u001b[0m\u001b[1;33m.\u001b[0m\u001b[0mclose\u001b[0m\u001b[1;33m(\u001b[0m\u001b[1;33m)\u001b[0m\u001b[1;33m\u001b[0m\u001b[0m\n\u001b[0;32m    530\u001b[0m \u001b[1;33m\u001b[0m\u001b[0m\n",
      "\u001b[1;31mEOFError\u001b[0m: "
     ]
    }
   ],
   "source": [
    "# %load multiprocessing_fibonacci.py\n",
    "\n",
    "import sys, logging, time, os, random\n",
    "from multiprocessing import Process, Queue, Pool, cpu_count, current_process, Manager\n",
    "\n",
    "logger = logging.getLogger()\n",
    "logger.setLevel(logging.DEBUG)\n",
    "formatter = logging.Formatter('%(asctime)s - %(message)s')\n",
    "\n",
    "ch = logging.StreamHandler()\n",
    "ch.setLevel(logging.DEBUG)\n",
    "ch.setFormatter(formatter)\n",
    "logger.addHandler(ch)\n",
    "\n",
    "def producer_task(q, fibo_dict):\n",
    "    for i in range(15):\n",
    "        value = random.randint(1, 20)\n",
    "        fibo_dict[value] = None\n",
    "        logger.info(\"Producer [%s] putting value [%d] into queue.. \"\n",
    "                % (current_process().name, value))\n",
    "        q.put(value)\n",
    "\n",
    "def consumer_task(q, fibo_dict):\n",
    "    while not q.empty():\n",
    "        value = q.get(True, 0.05)\n",
    "        a, b = 0, 1\n",
    "        for item in range(value):\n",
    "            a, b = b, a + b\n",
    "            fibo_dict[value] = a\n",
    "        logger.info(\"consumer [%s] getting value [%d] from queue...\"\n",
    "                    % (current_process().name, value))\n",
    "\n",
    "if __name__ == '__main__':\n",
    "    data_queue = Queue()\n",
    "    number_of_cpus = cpu_count()\n",
    "    manager = Manager()\n",
    "    fibo_dict = manager.dict()\n",
    "    \n",
    "    producer = Process(target=producer_task, args=(data_queue, fibo_dict))\n",
    "    producer.start()\n",
    "    producer.join()\n",
    "    \n",
    "    consumer_list = []\n",
    "    for i in range(number_of_cpus):\n",
    "        consumer = Process(target=consumer_task, args=(data_queue, fibo_dict))\n",
    "        consumer.start()\n",
    "        consumer_list.append(consumer)\n",
    "    \n",
    "    [consumer.join() for consumer in consumer_list]\n",
    "    \n",
    "    logger.info(fibo_dict)\n"
   ]
  },
  {
   "cell_type": "markdown",
   "metadata": {},
   "source": [
    "# Crawling the Web using ProcessPoolExecutor"
   ]
  },
  {
   "cell_type": "markdown",
   "metadata": {},
   "source": [
    "https://docs.python.org/3/library/concurrent.futures.html\n",
    "\n",
    "ProcessPoolExecutor 소스보기 : https://hg.python.org/cpython/file/3.4/Lib/concurrent/futures/process.py\n",
    "\n",
    "https://hg.python.org/cpython/file/3.4/Lib/concurrent/futures/\n",
    "\n",
    "https://hg.python.org/cpython/file/47451f6e7e75/Lib/concurrent/futures/_base.py"
   ]
  },
  {
   "cell_type": "code",
   "execution_count": 6,
   "metadata": {
    "collapsed": false,
    "scrolled": true
   },
   "outputs": [
    {
     "ename": "EOFError",
     "evalue": "",
     "output_type": "error",
     "traceback": [
      "\u001b[1;31m---------------------------------------------------------------------------\u001b[0m",
      "\u001b[1;31mEOFError\u001b[0m                                  Traceback (most recent call last)",
      "\u001b[1;32m<ipython-input-6-c6298c105cbd>\u001b[0m in \u001b[0;36m<module>\u001b[1;34m()\u001b[0m\n\u001b[0;32m     29\u001b[0m \u001b[1;33m\u001b[0m\u001b[0m\n\u001b[0;32m     30\u001b[0m \u001b[1;32mif\u001b[0m \u001b[0m__name__\u001b[0m \u001b[1;33m==\u001b[0m \u001b[1;34m'__main__'\u001b[0m\u001b[1;33m:\u001b[0m\u001b[1;33m\u001b[0m\u001b[0m\n\u001b[1;32m---> 31\u001b[1;33m     \u001b[0mmanager\u001b[0m \u001b[1;33m=\u001b[0m \u001b[0mManager\u001b[0m\u001b[1;33m(\u001b[0m\u001b[1;33m)\u001b[0m\u001b[1;33m\u001b[0m\u001b[0m\n\u001b[0m\u001b[0;32m     32\u001b[0m     \u001b[0murls\u001b[0m \u001b[1;33m=\u001b[0m \u001b[0mmanager\u001b[0m\u001b[1;33m.\u001b[0m\u001b[0mQueue\u001b[0m\u001b[1;33m(\u001b[0m\u001b[1;33m)\u001b[0m\u001b[1;33m\u001b[0m\u001b[0m\n\u001b[0;32m     33\u001b[0m     \u001b[0murls\u001b[0m\u001b[1;33m.\u001b[0m\u001b[0mput\u001b[0m\u001b[1;33m(\u001b[0m\u001b[1;34m'http://www.google.com'\u001b[0m\u001b[1;33m)\u001b[0m\u001b[1;33m\u001b[0m\u001b[0m\n",
      "\u001b[1;32mC:\\Python2764\\lib\\multiprocessing\\__init__.pyc\u001b[0m in \u001b[0;36mManager\u001b[1;34m()\u001b[0m\n\u001b[0;32m     97\u001b[0m     \u001b[1;32mfrom\u001b[0m \u001b[0mmultiprocessing\u001b[0m\u001b[1;33m.\u001b[0m\u001b[0mmanagers\u001b[0m \u001b[1;32mimport\u001b[0m \u001b[0mSyncManager\u001b[0m\u001b[1;33m\u001b[0m\u001b[0m\n\u001b[0;32m     98\u001b[0m     \u001b[0mm\u001b[0m \u001b[1;33m=\u001b[0m \u001b[0mSyncManager\u001b[0m\u001b[1;33m(\u001b[0m\u001b[1;33m)\u001b[0m\u001b[1;33m\u001b[0m\u001b[0m\n\u001b[1;32m---> 99\u001b[1;33m     \u001b[0mm\u001b[0m\u001b[1;33m.\u001b[0m\u001b[0mstart\u001b[0m\u001b[1;33m(\u001b[0m\u001b[1;33m)\u001b[0m\u001b[1;33m\u001b[0m\u001b[0m\n\u001b[0m\u001b[0;32m    100\u001b[0m     \u001b[1;32mreturn\u001b[0m \u001b[0mm\u001b[0m\u001b[1;33m\u001b[0m\u001b[0m\n\u001b[0;32m    101\u001b[0m \u001b[1;33m\u001b[0m\u001b[0m\n",
      "\u001b[1;32mC:\\Python2764\\lib\\multiprocessing\\managers.py\u001b[0m in \u001b[0;36mstart\u001b[1;34m(self, initializer, initargs)\u001b[0m\n\u001b[0;32m    526\u001b[0m         \u001b[1;31m# get address of server\u001b[0m\u001b[1;33m\u001b[0m\u001b[1;33m\u001b[0m\u001b[0m\n\u001b[0;32m    527\u001b[0m         \u001b[0mwriter\u001b[0m\u001b[1;33m.\u001b[0m\u001b[0mclose\u001b[0m\u001b[1;33m(\u001b[0m\u001b[1;33m)\u001b[0m\u001b[1;33m\u001b[0m\u001b[0m\n\u001b[1;32m--> 528\u001b[1;33m         \u001b[0mself\u001b[0m\u001b[1;33m.\u001b[0m\u001b[0m_address\u001b[0m \u001b[1;33m=\u001b[0m \u001b[0mreader\u001b[0m\u001b[1;33m.\u001b[0m\u001b[0mrecv\u001b[0m\u001b[1;33m(\u001b[0m\u001b[1;33m)\u001b[0m\u001b[1;33m\u001b[0m\u001b[0m\n\u001b[0m\u001b[0;32m    529\u001b[0m         \u001b[0mreader\u001b[0m\u001b[1;33m.\u001b[0m\u001b[0mclose\u001b[0m\u001b[1;33m(\u001b[0m\u001b[1;33m)\u001b[0m\u001b[1;33m\u001b[0m\u001b[0m\n\u001b[0;32m    530\u001b[0m \u001b[1;33m\u001b[0m\u001b[0m\n",
      "\u001b[1;31mEOFError\u001b[0m: "
     ]
    }
   ],
   "source": [
    "# %load process_pool_executor_web_crawler.py\n",
    "\n",
    "import sys, time, random, re, requests\n",
    "import concurrent.futures\n",
    "from multiprocessing import Queue, cpu_count, current_process, Manager\n",
    "\n",
    "\n",
    "def group_urls_task(urls, result_dict, html_link_regex):\n",
    "    try:\n",
    "        url = urls.get(True, 0.05)\n",
    "        result_dict[url] = None\n",
    "        print(\"[%s] putting url [%s] in dictionary...\" % (\n",
    "            current_process().name, url))\n",
    "    except Queue.Empty:   # queue  --> Queue 수정\n",
    "        print('Nothing to be done, queue is empty')\n",
    "\n",
    "def crawl_task(url, html_link_regex):\n",
    "    links = []\n",
    "    try:\n",
    "        request_data = requests.get(url)\n",
    "        print(\"[%s] crawling url [%s] ...\" % (\n",
    "            current_process().name, url))\n",
    "        links = html_link_regex.findall(request_data.text)\n",
    "    except:\n",
    "        print(sys.exc_info())\n",
    "        raise\n",
    "    finally:\n",
    "        return (url, links)\n",
    "\n",
    "if __name__ == '__main__':\n",
    "    manager = Manager()\n",
    "    urls = manager.Queue()\n",
    "    urls.put('http://www.google.com')\n",
    "    urls.put('http://br.bing.com/')\n",
    "    urls.put('https://duckduckgo.com/')\n",
    "    urls.put('https://github.com/')\n",
    "    urls.put('http://br.search.yahoo.com/')\n",
    "    result_dict = manager.dict()\n",
    "    \n",
    "    html_link_regex = \\\n",
    "        re.compile('<a\\s(?:.*?\\s)*?href=[\\'\"](.*?)[\\'\"].*?>')    #  *?  --> “non-greedy” versions\n",
    "    \n",
    "    number_of_cpus = cpu_count()\n",
    "    \n",
    "    with concurrent.futures.ProcessPoolExecutor(max_workers=number_of_cpus) as group_link_processes:\n",
    "        for i in range(urls.qsize()):\n",
    "            group_link_processes.submit(group_urls_task, urls, result_dict, html_link_regex)\n",
    "    \n",
    "    with concurrent.futures.ProcessPoolExecutor(max_workers=number_of_cpus) as crawler_link_processes:\n",
    "        future_tasks = {crawler_link_processes.submit(crawl_task, url, html_link_regex): url for url in result_dict.keys()}\n",
    "        for future in concurrent.futures.as_completed(future_tasks):\n",
    "            result_dict[future.result()[0]] = future.result()[1]\n",
    "\n",
    "    for url, links in result_dict.items():\n",
    "        print(\"[%s] with links : [%s...\" % (url, links[0]))"
   ]
  },
  {
   "cell_type": "markdown",
   "metadata": {},
   "source": [
    "#### python 2 용 \n",
    "\n",
    "https://pypi.python.org/pypi/futures/2.2.0\n",
    "\n",
    "http://pythonhosted.org//futures/"
   ]
  },
  {
   "cell_type": "markdown",
   "metadata": {
    "collapsed": true
   },
   "source": [
    "### 참고 : Regular Expression  - Greedy versus Non-Greedy\n",
    "\n",
    "https://docs.python.org/2/howto/regex.html#greedy-versus-non-greedy"
   ]
  },
  {
   "cell_type": "markdown",
   "metadata": {},
   "source": [
    "# 참고 : zeromq\n",
    "\n",
    "http://zeromq.org/\n",
    "\n",
    "- PyZMQ\n",
    "    - the Python bindings for ØMQ.\n",
    "    - ipython notebook 설치시 함께 설치됨.\n",
    "\n",
    "\n",
    "http://learning-0mq-with-pyzmq.readthedocs.org/en/latest/pyzmq/pyzmq.html"
   ]
  },
  {
   "cell_type": "code",
   "execution_count": 11,
   "metadata": {
    "collapsed": false,
    "scrolled": false
   },
   "outputs": [
    {
     "data": {
      "text/html": [
       "\n",
       "        <iframe\n",
       "            width=\"800\"\n",
       "            height=\"600\"\n",
       "            src=\"https://www.youtube.com/embed/_JCBphyciAs\"\n",
       "            frameborder=\"0\"\n",
       "            allowfullscreen\n",
       "        ></iframe>\n",
       "        "
      ],
      "text/plain": [
       "<IPython.lib.display.YouTubeVideo at 0x3bdafd0>"
      ]
     },
     "execution_count": 11,
     "metadata": {},
     "output_type": "execute_result"
    }
   ],
   "source": [
    "from IPython.display import YouTubeVideo\n",
    "\n",
    "YouTubeVideo('_JCBphyciAs',width=800, height=600)"
   ]
  },
  {
   "cell_type": "code",
   "execution_count": null,
   "metadata": {
    "collapsed": true
   },
   "outputs": [],
   "source": []
  }
 ],
 "metadata": {
  "kernelspec": {
   "display_name": "Python 2",
   "language": "python",
   "name": "python2"
  },
  "language_info": {
   "codemirror_mode": {
    "name": "ipython",
    "version": 2
   },
   "file_extension": ".py",
   "mimetype": "text/x-python",
   "name": "python",
   "nbconvert_exporter": "python",
   "pygments_lexer": "ipython2",
   "version": "2.7.8"
  }
 },
 "nbformat": 4,
 "nbformat_minor": 0
}
