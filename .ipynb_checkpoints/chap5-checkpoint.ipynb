{
 "cells": [
  {
   "cell_type": "markdown",
   "metadata": {},
   "source": [
    "# chapter 5. Using Multiprocessing and ProcessPoolExecutor"
   ]
  },
  {
   "cell_type": "code",
   "execution_count": 7,
   "metadata": {
    "collapsed": false
   },
   "outputs": [
    {
     "data": {
      "text/plain": [
       "'2.7.9'"
      ]
     },
     "execution_count": 7,
     "metadata": {},
     "output_type": "execute_result"
    }
   ],
   "source": [
    "import platform\n",
    "platform.python_version()"
   ]
  },
  {
   "cell_type": "markdown",
   "metadata": {},
   "source": [
    "## 리소스 (resource)\n",
    "\n",
    "![resource](./images/resource.png)\n",
    "\n",
    "- 공유 리소스 : 네트워크 사용자가 사용할 수 있는 폴더, 파일, 프린터 및 명명된 파이프와 같은 모든 리소스. \n",
    "   ( https://technet.microsoft.com/ko-kr/library/cc772501.aspx )"
   ]
  },
  {
   "cell_type": "markdown",
   "metadata": {},
   "source": [
    "## thread"
   ]
  },
  {
   "cell_type": "markdown",
   "metadata": {},
   "source": [
    "## process"
   ]
  },
  {
   "cell_type": "markdown",
   "metadata": {},
   "source": [
    "## inter-process communication (IPC)\n",
    "\n",
    "http://en.wikipedia.org/wiki/Inter-process_communication"
   ]
  },
  {
   "cell_type": "markdown",
   "metadata": {
    "collapsed": true
   },
   "source": [
    "## 선점형 vs 비선점형 OS\n",
    "\n",
    "http://ko.wikipedia.org/wiki/%EC%8A%A4%EC%BC%80%EC%A4%84%EB%A7%81_(%EC%BB%B4%ED%93%A8%ED%8C%85)"
   ]
  },
  {
   "cell_type": "markdown",
   "metadata": {},
   "source": [
    "# Understanding the concept of a process\n"
   ]
  },
  {
   "cell_type": "markdown",
   "metadata": {},
   "source": [
    "## 1. Understanding the process model"
   ]
  },
  {
   "cell_type": "markdown",
   "metadata": {},
   "source": [
    "## 2. Defining the states of a process"
   ]
  },
  {
   "cell_type": "markdown",
   "metadata": {},
   "source": [
    "# Implementing multiprocessing communication"
   ]
  },
  {
   "cell_type": "markdown",
   "metadata": {},
   "source": [
    "## 1. Using multiprocessing.Pipe"
   ]
  },
  {
   "cell_type": "code",
   "execution_count": null,
   "metadata": {
    "collapsed": true
   },
   "outputs": [],
   "source": [
    "# %load multiprocessing_pipe.py\n",
    "import os, random\n",
    "from multiprocessing import Process, Pipe\n",
    "\n",
    "\n",
    "def producer_task(conn):\n",
    "    value = random.randint(1, 10)\n",
    "    conn.send(value)\n",
    "    print('Value [%d] sent by PID [%d]' % (value, os.getpid()))\n",
    "    conn.close()\n",
    "\n",
    "def consumer_task(conn):\n",
    "    print('Value [%d] received by PID [%d]' % (conn.recv(), os.getpid()))\n",
    "\n",
    "if __name__ == '__main__':\n",
    "    producer_conn, consumer_conn = Pipe()\n",
    "    consumer = Process(target=consumer_task, args=(consumer_conn,))\n",
    "    producer = Process(target=producer_task, args=(producer_conn,))\n",
    "    \n",
    "    consumer.start()\n",
    "    producer.start()\n",
    "    \n",
    "    consumer.join()\n",
    "    producer.join()\n",
    "\n"
   ]
  },
  {
   "cell_type": "markdown",
   "metadata": {},
   "source": [
    "## 2. Understanding multiprocessing.Queue"
   ]
  },
  {
   "cell_type": "markdown",
   "metadata": {},
   "source": [
    "# Using multiprocessing to compute Fibonacci series terms with multiple inputs"
   ]
  },
  {
   "cell_type": "code",
   "execution_count": null,
   "metadata": {
    "collapsed": true
   },
   "outputs": [],
   "source": [
    "# %load multiprocessing_fibonacci.py\n",
    "\n",
    "import sys, logging, time, os, random\n",
    "from multiprocessing import Process, Queue, Pool, \\\n",
    "    cpu_count, current_process, Manager\n",
    "\n",
    "logger = logging.getLogger()\n",
    "logger.setLevel(logging.DEBUG)\n",
    "formatter = logging.Formatter('%(asctime)s - %(message)s')\n",
    "\n",
    "ch = logging.StreamHandler()\n",
    "ch.setLevel(logging.DEBUG)\n",
    "ch.setFormatter(formatter)\n",
    "logger.addHandler(ch)\n",
    "\n",
    "def producer_task(q, fibo_dict):\n",
    "    for i in range(15):\n",
    "        value = random.randint(1, 20)\n",
    "        fibo_dict[value] = None\n",
    "        logger.info(\"Producer [%s] putting value [%d] into queue.. \"\n",
    "                % (current_process().name, value))\n",
    "        q.put(value)\n",
    "\n",
    "def consumer_task(q, fibo_dict):\n",
    "    while not q.empty():\n",
    "        value = q.get(True, 0.05)\n",
    "        a, b = 0, 1\n",
    "        for item in range(value):\n",
    "            a, b = b, a + b\n",
    "            fibo_dict[value] = a\n",
    "        logger.info(\"consumer [%s] getting value [%d] from queue...\"\n",
    "                    % (current_process().name, value))\n",
    "\n",
    "if __name__ == '__main__':\n",
    "    data_queue = Queue()\n",
    "    number_of_cpus = cpu_count()\n",
    "    manager = Manager()\n",
    "    fibo_dict = manager.dict()\n",
    "    \n",
    "    producer = Process(target=producer_task, args=(data_queue, fibo_dict))\n",
    "    producer.start()\n",
    "    producer.join()\n",
    "    \n",
    "    consumer_list = []\n",
    "    for i in range(number_of_cpus):\n",
    "        consumer = Process(target=consumer_task, args=(data_queue, fibo_dict))\n",
    "        consumer.start()\n",
    "        consumer_list.append(consumer)\n",
    "    \n",
    "    [consumer.join() for consumer in consumer_list]\n",
    "    \n",
    "    logger.info(fibo_dict)\n"
   ]
  },
  {
   "cell_type": "markdown",
   "metadata": {},
   "source": [
    "# Crawling the Web using ProcessPoolExecutor"
   ]
  },
  {
   "cell_type": "code",
   "execution_count": null,
   "metadata": {
    "collapsed": true
   },
   "outputs": [],
   "source": [
    "# %load process_pool_executor_web_crawler.py\n",
    "\n",
    "import sys, time, random, re, requests\n",
    "import concurrent.futures\n",
    "from multiprocessing import Queue, cpu_count, current_process, Manager\n",
    "\n",
    "\n",
    "def group_urls_task(urls, result_dict, html_link_regex):\n",
    "    try:\n",
    "        url = urls.get(True, 0.05)\n",
    "        result_dict[url] = None\n",
    "        print(\"[%s] putting url [%s] in dictionary...\" % (\n",
    "            current_process().name, url))\n",
    "    except queue.Empty:\n",
    "        print('Nothing to be done, queue is empty')\n",
    "\n",
    "def crawl_task(url, html_link_regex):\n",
    "    links = []\n",
    "    try:\n",
    "        request_data = requests.get(url)\n",
    "        print(\"[%s] crawling url [%s] ...\" % (\n",
    "            current_process().name, url))\n",
    "        links = html_link_regex.findall(request_data.text)\n",
    "    except:\n",
    "        print(sys.exc_info())\n",
    "        raise\n",
    "    finally:\n",
    "        return (url, links)\n",
    "\n",
    "if __name__ == '__main__':\n",
    "    manager = Manager()\n",
    "    urls = manager.Queue()\n",
    "    urls.put('http://www.google.com')\n",
    "    urls.put('http://br.bing.com/')\n",
    "    urls.put('https://duckduckgo.com/')\n",
    "    urls.put('https://github.com/')\n",
    "    urls.put('http://br.search.yahoo.com/')\n",
    "    result_dict = manager.dict()\n",
    "    \n",
    "    html_link_regex = \\\n",
    "        re.compile('<a\\s(?:.*?\\s)*?href=[\\'\"](.*?)[\\'\"].*?>')\n",
    "    \n",
    "    number_of_cpus = cpu_count()\n",
    "    \n",
    "    with concurrent.futures.ProcessPoolExecutor(max_workers=number_of_cpus) as group_link_processes:\n",
    "        for i in range(urls.qsize()):\n",
    "            group_link_processes.submit(group_urls_task, urls, result_dict, html_link_regex)\n",
    "    \n",
    "    with concurrent.futures.ProcessPoolExecutor(max_workers=number_of_cpus) as crawler_link_processes:\n",
    "        future_tasks = {crawler_link_processes.submit(crawl_task, url, html_link_regex): url for url in result_dict.keys()}\n",
    "        for future in concurrent.futures.as_completed(future_tasks):\n",
    "            result_dict[future.result()[0]] = future.result()[1]\n",
    "\n",
    "    for url, links in result_dict.items():\n",
    "        print(\"[%s] with links : [%s...\" % (url, links[0]))"
   ]
  },
  {
   "cell_type": "code",
   "execution_count": null,
   "metadata": {
    "collapsed": true
   },
   "outputs": [],
   "source": []
  }
 ],
 "metadata": {
  "kernelspec": {
   "display_name": "Python 2",
   "language": "python",
   "name": "python2"
  },
  "language_info": {
   "codemirror_mode": {
    "name": "ipython",
    "version": 2
   },
   "file_extension": ".py",
   "mimetype": "text/x-python",
   "name": "python",
   "nbconvert_exporter": "python",
   "pygments_lexer": "ipython2",
   "version": "2.7.9"
  }
 },
 "nbformat": 4,
 "nbformat_minor": 0
}
